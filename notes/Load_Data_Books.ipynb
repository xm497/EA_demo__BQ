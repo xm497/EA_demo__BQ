{
  "cells": [
    {
      "cell_type": "code",
      "id": "64chDLCzp54Q2dUq39mkngN6",
      "metadata": {
        "tags": [],
        "id": "64chDLCzp54Q2dUq39mkngN6",
        "colab": {
          "base_uri": "https://localhost:8080/"
        },
        "executionInfo": {
          "status": "ok",
          "timestamp": 1759355975250,
          "user_tz": -120,
          "elapsed": 5441,
          "user": {
            "displayName": "",
            "userId": ""
          }
        },
        "outputId": "425d700e-c479-4142-b560-844acc444155"
      },
      "source": [
        "# Import required libraries\n",
        "import google.cloud.bigquery as bq\n",
        "from google.cloud import storage\n",
        "import pandas as pd\n",
        "import json\n",
        "\n",
        "\n",
        "# Initialize BigQuery client\n",
        "client = bq.Client()\n",
        "storage_client = storage.Client()\n",
        "\n",
        "# Configuration\n",
        "PROJECT_ID = client.project\n",
        "DATASET_ID = 'EA_DEMO_RAW'\n",
        "BUCKET_NAME = f'ea-demo-1raw'\n",
        "\n",
        "\n",
        "print(f'The project currently set is :{PROJECT_ID}')"
      ],
      "execution_count": 1,
      "outputs": [
        {
          "output_type": "stream",
          "name": "stdout",
          "text": [
            "The project currently set is :xm497-2025-09-16-sqvyh-1\n"
          ]
        }
      ]
    },
    {
      "cell_type": "code",
      "source": [
        "# Load  data from CSV\n",
        "def load_data():\n",
        "    \"\"\"Load books data from CSV into T_BOOKS_RAW table\"\"\"\n",
        "\n",
        "    table_id = f\"{PROJECT_ID}.{DATASET_ID}.T_BOOKS_RAW\"\n",
        "\n",
        "    # Configure the load job\n",
        "    job_config = bq.LoadJobConfig(\n",
        "        source_format=bq.SourceFormat.CSV,\n",
        "        skip_leading_rows=1,  # Skip header row\n",
        "        autodetect=False,  # Don't auto-detect schema, use existing table schema\n",
        "        write_disposition=bq.WriteDisposition.WRITE_TRUNCATE,  # Replace existing data\n",
        "        max_bad_records=0  # Fail if any bad records\n",
        "    )\n",
        "\n",
        "    # GCS URI for books CSV file\n",
        "    uri = f\"gs://{BUCKET_NAME}/books.csv\"\n",
        "\n",
        "    print(f\" Loading books data from: {uri}\")\n",
        "    print(f\" Target table: {table_id}\")\n",
        "\n",
        "    # Start the load job\n",
        "    load_job = client.load_table_from_uri(\n",
        "        uri, table_id, job_config=job_config\n",
        "    )\n",
        "\n",
        "    # Wait for job to complete\n",
        "    load_job.result()\n",
        "\n",
        "    # Get the updated table info\n",
        "    table = client.get_table(table_id)\n",
        "    print(f\"Loaded {table.num_rows:,} rows into T_BOOKS_RAW\")\n",
        "    return load_job\n",
        "\n",
        "\n"
      ],
      "metadata": {
        "id": "Ic0M28areIfk",
        "executionInfo": {
          "status": "ok",
          "timestamp": 1759355981460,
          "user_tz": -120,
          "elapsed": 385,
          "user": {
            "displayName": "",
            "userId": ""
          }
        }
      },
      "id": "Ic0M28areIfk",
      "execution_count": 2,
      "outputs": []
    },
    {
      "cell_type": "code",
      "source": [
        "books_job=load_data()"
      ],
      "metadata": {
        "colab": {
          "base_uri": "https://localhost:8080/"
        },
        "id": "mHeMuL5Ofv-V",
        "executionInfo": {
          "status": "ok",
          "timestamp": 1759355988362,
          "user_tz": -120,
          "elapsed": 2338,
          "user": {
            "displayName": "",
            "userId": ""
          }
        },
        "outputId": "e1ea2684-1599-45ea-f5c3-d8e8cc8a8ebf"
      },
      "id": "mHeMuL5Ofv-V",
      "execution_count": 3,
      "outputs": [
        {
          "output_type": "stream",
          "name": "stdout",
          "text": [
            " Loading books data from: gs://ea-demo-1raw/books.csv\n",
            " Target table: xm497-2025-09-16-sqvyh-1.EA_DEMO_RAW.T_BOOKS_RAW\n",
            "Loaded 100 rows into T_BOOKS_RAW\n"
          ]
        }
      ]
    },
    {
      "cell_type": "code",
      "source": [
        "%%bigquery Books_count\n",
        "select count(*) as cnt from `xm497-2025-09-16-sqvyh-1`.EA_DEMO_RAW.T_BOOKS_RAW"
      ],
      "metadata": {
        "colab": {
          "base_uri": "https://localhost:8080/",
          "height": 81,
          "referenced_widgets": [
            "b582085dbeaa4863a1c9ca5978ff69d6",
            "672d75913d814db7969ebd383958e219",
            "a4906a7a77244c048b826b21effcb984",
            "3160c7d55bdc4d1999a542b1746c17a4",
            "c8c14f2da6a04ef5921233ba8ba889b5",
            "7a288e86f1d143c6b04cee4bf7c4c450",
            "12f63c29327f4587839048cd73d09501",
            "12468ee33f8843e6bacdfb15f478ca46",
            "e680761a82a343d1be26ebafe245dbf2",
            "4bb587faf3cb436aa3de7231b0863d7e",
            "b154be4ade5d4d0d8b5186fdf0796124",
            "414baab30c444aa2a455221a4105e9cc",
            "1cc23bbfb43e41afbde0b5a59acac008",
            "e609f12c4c4e42caa8489de5af2de830",
            "47947984d3b349c29598ed1d2dedac37",
            "d0d5a287718c4c0c9af70cfc56b55c19",
            "606c07a49fac4b18b96ca9223d33abc6",
            "b7bef375b7514eabb95e29f9b88e6039",
            "f07c11ba57904a85b4c1194f5519e6a9",
            "ed889b25fb3b497ca8046c755c99ee73",
            "1f53bb7556c046f4b2525ff32a7dde3d",
            "846e8e14cbd043f5a470b1c424b54fd1"
          ]
        },
        "id": "6LBIH1GKsQo6",
        "executionInfo": {
          "status": "ok",
          "timestamp": 1759355995364,
          "user_tz": -120,
          "elapsed": 5745,
          "user": {
            "displayName": "",
            "userId": ""
          }
        },
        "outputId": "68de3ba5-1c88-4440-a0ac-348da1b19a35"
      },
      "id": "6LBIH1GKsQo6",
      "execution_count": 4,
      "outputs": [
        {
          "output_type": "display_data",
          "data": {
            "text/plain": [
              "Query is running:   0%|          |"
            ],
            "application/vnd.jupyter.widget-view+json": {
              "version_major": 2,
              "version_minor": 0,
              "model_id": "b582085dbeaa4863a1c9ca5978ff69d6"
            }
          },
          "metadata": {}
        },
        {
          "output_type": "display_data",
          "data": {
            "text/plain": [
              "Downloading:   0%|          |"
            ],
            "application/vnd.jupyter.widget-view+json": {
              "version_major": 2,
              "version_minor": 0,
              "model_id": "414baab30c444aa2a455221a4105e9cc"
            }
          },
          "metadata": {}
        }
      ]
    },
    {
      "cell_type": "code",
      "source": [
        "\n",
        "if  Books_count['cnt'][0] == 100:\n",
        "    print(\"The Books CSV data load is done as expected\")\n",
        "else :\n",
        "    print(\"The Books CSV data load is not done as expected\")"
      ],
      "metadata": {
        "colab": {
          "base_uri": "https://localhost:8080/"
        },
        "id": "b2aSJyaBunGB",
        "executionInfo": {
          "status": "ok",
          "timestamp": 1759355996711,
          "user_tz": -120,
          "elapsed": 359,
          "user": {
            "displayName": "",
            "userId": ""
          }
        },
        "outputId": "de4f0f1d-df56-464c-cfef-542497f9e1a5"
      },
      "id": "b2aSJyaBunGB",
      "execution_count": 5,
      "outputs": [
        {
          "output_type": "stream",
          "name": "stdout",
          "text": [
            "The Books CSV data load is done as expected\n"
          ]
        }
      ]
    }
  ],
  "metadata": {
    "kernelspec": {
      "display_name": "Python 3",
      "language": "python",
      "name": "python3"
    },
    "language_info": {
      "codemirror_mode": {
        "name": "ipython",
        "version": 3
      },
      "file_extension": ".py",
      "mimetype": "text/x-python",
      "name": "python",
      "nbconvert_exporter": "python",
      "pygments_lexer": "ipython3",
      "version": "3.10.10"
    },
    "colab": {
      "provenance": [],
      "name": "Load_Data_Books"
    },
    "widgets": {
      "application/vnd.jupyter.widget-state+json": {
        "b582085dbeaa4863a1c9ca5978ff69d6": {
          "model_module": "@jupyter-widgets/controls",
          "model_name": "HBoxModel",
          "model_module_version": "1.5.0",
          "state": {
            "_dom_classes": [],
            "_model_module": "@jupyter-widgets/controls",
            "_model_module_version": "1.5.0",
            "_model_name": "HBoxModel",
            "_view_count": null,
            "_view_module": "@jupyter-widgets/controls",
            "_view_module_version": "1.5.0",
            "_view_name": "HBoxView",
            "box_style": "",
            "children": [
              "IPY_MODEL_672d75913d814db7969ebd383958e219",
              "IPY_MODEL_a4906a7a77244c048b826b21effcb984",
              "IPY_MODEL_3160c7d55bdc4d1999a542b1746c17a4"
            ],
            "layout": "IPY_MODEL_c8c14f2da6a04ef5921233ba8ba889b5"
          }
        },
        "672d75913d814db7969ebd383958e219": {
          "model_module": "@jupyter-widgets/controls",
          "model_name": "HTMLModel",
          "model_module_version": "1.5.0",
          "state": {
            "_dom_classes": [],
            "_model_module": "@jupyter-widgets/controls",
            "_model_module_version": "1.5.0",
            "_model_name": "HTMLModel",
            "_view_count": null,
            "_view_module": "@jupyter-widgets/controls",
            "_view_module_version": "1.5.0",
            "_view_name": "HTMLView",
            "description": "",
            "description_tooltip": null,
            "layout": "IPY_MODEL_7a288e86f1d143c6b04cee4bf7c4c450",
            "placeholder": "​",
            "style": "IPY_MODEL_12f63c29327f4587839048cd73d09501",
            "value": "Job ID ef31d0da-ffe1-457e-ae5f-e1d7dffcc073 successfully executed: 100%"
          }
        },
        "a4906a7a77244c048b826b21effcb984": {
          "model_module": "@jupyter-widgets/controls",
          "model_name": "FloatProgressModel",
          "model_module_version": "1.5.0",
          "state": {
            "_dom_classes": [],
            "_model_module": "@jupyter-widgets/controls",
            "_model_module_version": "1.5.0",
            "_model_name": "FloatProgressModel",
            "_view_count": null,
            "_view_module": "@jupyter-widgets/controls",
            "_view_module_version": "1.5.0",
            "_view_name": "ProgressView",
            "bar_style": "success",
            "description": "",
            "description_tooltip": null,
            "layout": "IPY_MODEL_12468ee33f8843e6bacdfb15f478ca46",
            "max": 1,
            "min": 0,
            "orientation": "horizontal",
            "style": "IPY_MODEL_e680761a82a343d1be26ebafe245dbf2",
            "value": 1
          }
        },
        "3160c7d55bdc4d1999a542b1746c17a4": {
          "model_module": "@jupyter-widgets/controls",
          "model_name": "HTMLModel",
          "model_module_version": "1.5.0",
          "state": {
            "_dom_classes": [],
            "_model_module": "@jupyter-widgets/controls",
            "_model_module_version": "1.5.0",
            "_model_name": "HTMLModel",
            "_view_count": null,
            "_view_module": "@jupyter-widgets/controls",
            "_view_module_version": "1.5.0",
            "_view_name": "HTMLView",
            "description": "",
            "description_tooltip": null,
            "layout": "IPY_MODEL_4bb587faf3cb436aa3de7231b0863d7e",
            "placeholder": "​",
            "style": "IPY_MODEL_b154be4ade5d4d0d8b5186fdf0796124",
            "value": ""
          }
        },
        "c8c14f2da6a04ef5921233ba8ba889b5": {
          "model_module": "@jupyter-widgets/base",
          "model_name": "LayoutModel",
          "model_module_version": "1.2.0",
          "state": {
            "_model_module": "@jupyter-widgets/base",
            "_model_module_version": "1.2.0",
            "_model_name": "LayoutModel",
            "_view_count": null,
            "_view_module": "@jupyter-widgets/base",
            "_view_module_version": "1.2.0",
            "_view_name": "LayoutView",
            "align_content": null,
            "align_items": null,
            "align_self": null,
            "border": null,
            "bottom": null,
            "display": null,
            "flex": null,
            "flex_flow": null,
            "grid_area": null,
            "grid_auto_columns": null,
            "grid_auto_flow": null,
            "grid_auto_rows": null,
            "grid_column": null,
            "grid_gap": null,
            "grid_row": null,
            "grid_template_areas": null,
            "grid_template_columns": null,
            "grid_template_rows": null,
            "height": null,
            "justify_content": null,
            "justify_items": null,
            "left": null,
            "margin": null,
            "max_height": null,
            "max_width": null,
            "min_height": null,
            "min_width": null,
            "object_fit": null,
            "object_position": null,
            "order": null,
            "overflow": null,
            "overflow_x": null,
            "overflow_y": null,
            "padding": null,
            "right": null,
            "top": null,
            "visibility": null,
            "width": null
          }
        },
        "7a288e86f1d143c6b04cee4bf7c4c450": {
          "model_module": "@jupyter-widgets/base",
          "model_name": "LayoutModel",
          "model_module_version": "1.2.0",
          "state": {
            "_model_module": "@jupyter-widgets/base",
            "_model_module_version": "1.2.0",
            "_model_name": "LayoutModel",
            "_view_count": null,
            "_view_module": "@jupyter-widgets/base",
            "_view_module_version": "1.2.0",
            "_view_name": "LayoutView",
            "align_content": null,
            "align_items": null,
            "align_self": null,
            "border": null,
            "bottom": null,
            "display": null,
            "flex": null,
            "flex_flow": null,
            "grid_area": null,
            "grid_auto_columns": null,
            "grid_auto_flow": null,
            "grid_auto_rows": null,
            "grid_column": null,
            "grid_gap": null,
            "grid_row": null,
            "grid_template_areas": null,
            "grid_template_columns": null,
            "grid_template_rows": null,
            "height": null,
            "justify_content": null,
            "justify_items": null,
            "left": null,
            "margin": null,
            "max_height": null,
            "max_width": null,
            "min_height": null,
            "min_width": null,
            "object_fit": null,
            "object_position": null,
            "order": null,
            "overflow": null,
            "overflow_x": null,
            "overflow_y": null,
            "padding": null,
            "right": null,
            "top": null,
            "visibility": null,
            "width": null
          }
        },
        "12f63c29327f4587839048cd73d09501": {
          "model_module": "@jupyter-widgets/controls",
          "model_name": "DescriptionStyleModel",
          "model_module_version": "1.5.0",
          "state": {
            "_model_module": "@jupyter-widgets/controls",
            "_model_module_version": "1.5.0",
            "_model_name": "DescriptionStyleModel",
            "_view_count": null,
            "_view_module": "@jupyter-widgets/base",
            "_view_module_version": "1.2.0",
            "_view_name": "StyleView",
            "description_width": ""
          }
        },
        "12468ee33f8843e6bacdfb15f478ca46": {
          "model_module": "@jupyter-widgets/base",
          "model_name": "LayoutModel",
          "model_module_version": "1.2.0",
          "state": {
            "_model_module": "@jupyter-widgets/base",
            "_model_module_version": "1.2.0",
            "_model_name": "LayoutModel",
            "_view_count": null,
            "_view_module": "@jupyter-widgets/base",
            "_view_module_version": "1.2.0",
            "_view_name": "LayoutView",
            "align_content": null,
            "align_items": null,
            "align_self": null,
            "border": null,
            "bottom": null,
            "display": null,
            "flex": null,
            "flex_flow": null,
            "grid_area": null,
            "grid_auto_columns": null,
            "grid_auto_flow": null,
            "grid_auto_rows": null,
            "grid_column": null,
            "grid_gap": null,
            "grid_row": null,
            "grid_template_areas": null,
            "grid_template_columns": null,
            "grid_template_rows": null,
            "height": null,
            "justify_content": null,
            "justify_items": null,
            "left": null,
            "margin": null,
            "max_height": null,
            "max_width": null,
            "min_height": null,
            "min_width": null,
            "object_fit": null,
            "object_position": null,
            "order": null,
            "overflow": null,
            "overflow_x": null,
            "overflow_y": null,
            "padding": null,
            "right": null,
            "top": null,
            "visibility": null,
            "width": null
          }
        },
        "e680761a82a343d1be26ebafe245dbf2": {
          "model_module": "@jupyter-widgets/controls",
          "model_name": "ProgressStyleModel",
          "model_module_version": "1.5.0",
          "state": {
            "_model_module": "@jupyter-widgets/controls",
            "_model_module_version": "1.5.0",
            "_model_name": "ProgressStyleModel",
            "_view_count": null,
            "_view_module": "@jupyter-widgets/base",
            "_view_module_version": "1.2.0",
            "_view_name": "StyleView",
            "bar_color": null,
            "description_width": ""
          }
        },
        "4bb587faf3cb436aa3de7231b0863d7e": {
          "model_module": "@jupyter-widgets/base",
          "model_name": "LayoutModel",
          "model_module_version": "1.2.0",
          "state": {
            "_model_module": "@jupyter-widgets/base",
            "_model_module_version": "1.2.0",
            "_model_name": "LayoutModel",
            "_view_count": null,
            "_view_module": "@jupyter-widgets/base",
            "_view_module_version": "1.2.0",
            "_view_name": "LayoutView",
            "align_content": null,
            "align_items": null,
            "align_self": null,
            "border": null,
            "bottom": null,
            "display": null,
            "flex": null,
            "flex_flow": null,
            "grid_area": null,
            "grid_auto_columns": null,
            "grid_auto_flow": null,
            "grid_auto_rows": null,
            "grid_column": null,
            "grid_gap": null,
            "grid_row": null,
            "grid_template_areas": null,
            "grid_template_columns": null,
            "grid_template_rows": null,
            "height": null,
            "justify_content": null,
            "justify_items": null,
            "left": null,
            "margin": null,
            "max_height": null,
            "max_width": null,
            "min_height": null,
            "min_width": null,
            "object_fit": null,
            "object_position": null,
            "order": null,
            "overflow": null,
            "overflow_x": null,
            "overflow_y": null,
            "padding": null,
            "right": null,
            "top": null,
            "visibility": null,
            "width": null
          }
        },
        "b154be4ade5d4d0d8b5186fdf0796124": {
          "model_module": "@jupyter-widgets/controls",
          "model_name": "DescriptionStyleModel",
          "model_module_version": "1.5.0",
          "state": {
            "_model_module": "@jupyter-widgets/controls",
            "_model_module_version": "1.5.0",
            "_model_name": "DescriptionStyleModel",
            "_view_count": null,
            "_view_module": "@jupyter-widgets/base",
            "_view_module_version": "1.2.0",
            "_view_name": "StyleView",
            "description_width": ""
          }
        },
        "414baab30c444aa2a455221a4105e9cc": {
          "model_module": "@jupyter-widgets/controls",
          "model_name": "HBoxModel",
          "model_module_version": "1.5.0",
          "state": {
            "_dom_classes": [],
            "_model_module": "@jupyter-widgets/controls",
            "_model_module_version": "1.5.0",
            "_model_name": "HBoxModel",
            "_view_count": null,
            "_view_module": "@jupyter-widgets/controls",
            "_view_module_version": "1.5.0",
            "_view_name": "HBoxView",
            "box_style": "",
            "children": [
              "IPY_MODEL_1cc23bbfb43e41afbde0b5a59acac008",
              "IPY_MODEL_e609f12c4c4e42caa8489de5af2de830",
              "IPY_MODEL_47947984d3b349c29598ed1d2dedac37"
            ],
            "layout": "IPY_MODEL_d0d5a287718c4c0c9af70cfc56b55c19"
          }
        },
        "1cc23bbfb43e41afbde0b5a59acac008": {
          "model_module": "@jupyter-widgets/controls",
          "model_name": "HTMLModel",
          "model_module_version": "1.5.0",
          "state": {
            "_dom_classes": [],
            "_model_module": "@jupyter-widgets/controls",
            "_model_module_version": "1.5.0",
            "_model_name": "HTMLModel",
            "_view_count": null,
            "_view_module": "@jupyter-widgets/controls",
            "_view_module_version": "1.5.0",
            "_view_name": "HTMLView",
            "description": "",
            "description_tooltip": null,
            "layout": "IPY_MODEL_606c07a49fac4b18b96ca9223d33abc6",
            "placeholder": "​",
            "style": "IPY_MODEL_b7bef375b7514eabb95e29f9b88e6039",
            "value": "Downloading: 100%"
          }
        },
        "e609f12c4c4e42caa8489de5af2de830": {
          "model_module": "@jupyter-widgets/controls",
          "model_name": "FloatProgressModel",
          "model_module_version": "1.5.0",
          "state": {
            "_dom_classes": [],
            "_model_module": "@jupyter-widgets/controls",
            "_model_module_version": "1.5.0",
            "_model_name": "FloatProgressModel",
            "_view_count": null,
            "_view_module": "@jupyter-widgets/controls",
            "_view_module_version": "1.5.0",
            "_view_name": "ProgressView",
            "bar_style": "success",
            "description": "",
            "description_tooltip": null,
            "layout": "IPY_MODEL_f07c11ba57904a85b4c1194f5519e6a9",
            "max": 1,
            "min": 0,
            "orientation": "horizontal",
            "style": "IPY_MODEL_ed889b25fb3b497ca8046c755c99ee73",
            "value": 1
          }
        },
        "47947984d3b349c29598ed1d2dedac37": {
          "model_module": "@jupyter-widgets/controls",
          "model_name": "HTMLModel",
          "model_module_version": "1.5.0",
          "state": {
            "_dom_classes": [],
            "_model_module": "@jupyter-widgets/controls",
            "_model_module_version": "1.5.0",
            "_model_name": "HTMLModel",
            "_view_count": null,
            "_view_module": "@jupyter-widgets/controls",
            "_view_module_version": "1.5.0",
            "_view_name": "HTMLView",
            "description": "",
            "description_tooltip": null,
            "layout": "IPY_MODEL_1f53bb7556c046f4b2525ff32a7dde3d",
            "placeholder": "​",
            "style": "IPY_MODEL_846e8e14cbd043f5a470b1c424b54fd1",
            "value": ""
          }
        },
        "d0d5a287718c4c0c9af70cfc56b55c19": {
          "model_module": "@jupyter-widgets/base",
          "model_name": "LayoutModel",
          "model_module_version": "1.2.0",
          "state": {
            "_model_module": "@jupyter-widgets/base",
            "_model_module_version": "1.2.0",
            "_model_name": "LayoutModel",
            "_view_count": null,
            "_view_module": "@jupyter-widgets/base",
            "_view_module_version": "1.2.0",
            "_view_name": "LayoutView",
            "align_content": null,
            "align_items": null,
            "align_self": null,
            "border": null,
            "bottom": null,
            "display": null,
            "flex": null,
            "flex_flow": null,
            "grid_area": null,
            "grid_auto_columns": null,
            "grid_auto_flow": null,
            "grid_auto_rows": null,
            "grid_column": null,
            "grid_gap": null,
            "grid_row": null,
            "grid_template_areas": null,
            "grid_template_columns": null,
            "grid_template_rows": null,
            "height": null,
            "justify_content": null,
            "justify_items": null,
            "left": null,
            "margin": null,
            "max_height": null,
            "max_width": null,
            "min_height": null,
            "min_width": null,
            "object_fit": null,
            "object_position": null,
            "order": null,
            "overflow": null,
            "overflow_x": null,
            "overflow_y": null,
            "padding": null,
            "right": null,
            "top": null,
            "visibility": null,
            "width": null
          }
        },
        "606c07a49fac4b18b96ca9223d33abc6": {
          "model_module": "@jupyter-widgets/base",
          "model_name": "LayoutModel",
          "model_module_version": "1.2.0",
          "state": {
            "_model_module": "@jupyter-widgets/base",
            "_model_module_version": "1.2.0",
            "_model_name": "LayoutModel",
            "_view_count": null,
            "_view_module": "@jupyter-widgets/base",
            "_view_module_version": "1.2.0",
            "_view_name": "LayoutView",
            "align_content": null,
            "align_items": null,
            "align_self": null,
            "border": null,
            "bottom": null,
            "display": null,
            "flex": null,
            "flex_flow": null,
            "grid_area": null,
            "grid_auto_columns": null,
            "grid_auto_flow": null,
            "grid_auto_rows": null,
            "grid_column": null,
            "grid_gap": null,
            "grid_row": null,
            "grid_template_areas": null,
            "grid_template_columns": null,
            "grid_template_rows": null,
            "height": null,
            "justify_content": null,
            "justify_items": null,
            "left": null,
            "margin": null,
            "max_height": null,
            "max_width": null,
            "min_height": null,
            "min_width": null,
            "object_fit": null,
            "object_position": null,
            "order": null,
            "overflow": null,
            "overflow_x": null,
            "overflow_y": null,
            "padding": null,
            "right": null,
            "top": null,
            "visibility": null,
            "width": null
          }
        },
        "b7bef375b7514eabb95e29f9b88e6039": {
          "model_module": "@jupyter-widgets/controls",
          "model_name": "DescriptionStyleModel",
          "model_module_version": "1.5.0",
          "state": {
            "_model_module": "@jupyter-widgets/controls",
            "_model_module_version": "1.5.0",
            "_model_name": "DescriptionStyleModel",
            "_view_count": null,
            "_view_module": "@jupyter-widgets/base",
            "_view_module_version": "1.2.0",
            "_view_name": "StyleView",
            "description_width": ""
          }
        },
        "f07c11ba57904a85b4c1194f5519e6a9": {
          "model_module": "@jupyter-widgets/base",
          "model_name": "LayoutModel",
          "model_module_version": "1.2.0",
          "state": {
            "_model_module": "@jupyter-widgets/base",
            "_model_module_version": "1.2.0",
            "_model_name": "LayoutModel",
            "_view_count": null,
            "_view_module": "@jupyter-widgets/base",
            "_view_module_version": "1.2.0",
            "_view_name": "LayoutView",
            "align_content": null,
            "align_items": null,
            "align_self": null,
            "border": null,
            "bottom": null,
            "display": null,
            "flex": null,
            "flex_flow": null,
            "grid_area": null,
            "grid_auto_columns": null,
            "grid_auto_flow": null,
            "grid_auto_rows": null,
            "grid_column": null,
            "grid_gap": null,
            "grid_row": null,
            "grid_template_areas": null,
            "grid_template_columns": null,
            "grid_template_rows": null,
            "height": null,
            "justify_content": null,
            "justify_items": null,
            "left": null,
            "margin": null,
            "max_height": null,
            "max_width": null,
            "min_height": null,
            "min_width": null,
            "object_fit": null,
            "object_position": null,
            "order": null,
            "overflow": null,
            "overflow_x": null,
            "overflow_y": null,
            "padding": null,
            "right": null,
            "top": null,
            "visibility": null,
            "width": null
          }
        },
        "ed889b25fb3b497ca8046c755c99ee73": {
          "model_module": "@jupyter-widgets/controls",
          "model_name": "ProgressStyleModel",
          "model_module_version": "1.5.0",
          "state": {
            "_model_module": "@jupyter-widgets/controls",
            "_model_module_version": "1.5.0",
            "_model_name": "ProgressStyleModel",
            "_view_count": null,
            "_view_module": "@jupyter-widgets/base",
            "_view_module_version": "1.2.0",
            "_view_name": "StyleView",
            "bar_color": null,
            "description_width": ""
          }
        },
        "1f53bb7556c046f4b2525ff32a7dde3d": {
          "model_module": "@jupyter-widgets/base",
          "model_name": "LayoutModel",
          "model_module_version": "1.2.0",
          "state": {
            "_model_module": "@jupyter-widgets/base",
            "_model_module_version": "1.2.0",
            "_model_name": "LayoutModel",
            "_view_count": null,
            "_view_module": "@jupyter-widgets/base",
            "_view_module_version": "1.2.0",
            "_view_name": "LayoutView",
            "align_content": null,
            "align_items": null,
            "align_self": null,
            "border": null,
            "bottom": null,
            "display": null,
            "flex": null,
            "flex_flow": null,
            "grid_area": null,
            "grid_auto_columns": null,
            "grid_auto_flow": null,
            "grid_auto_rows": null,
            "grid_column": null,
            "grid_gap": null,
            "grid_row": null,
            "grid_template_areas": null,
            "grid_template_columns": null,
            "grid_template_rows": null,
            "height": null,
            "justify_content": null,
            "justify_items": null,
            "left": null,
            "margin": null,
            "max_height": null,
            "max_width": null,
            "min_height": null,
            "min_width": null,
            "object_fit": null,
            "object_position": null,
            "order": null,
            "overflow": null,
            "overflow_x": null,
            "overflow_y": null,
            "padding": null,
            "right": null,
            "top": null,
            "visibility": null,
            "width": null
          }
        },
        "846e8e14cbd043f5a470b1c424b54fd1": {
          "model_module": "@jupyter-widgets/controls",
          "model_name": "DescriptionStyleModel",
          "model_module_version": "1.5.0",
          "state": {
            "_model_module": "@jupyter-widgets/controls",
            "_model_module_version": "1.5.0",
            "_model_name": "DescriptionStyleModel",
            "_view_count": null,
            "_view_module": "@jupyter-widgets/base",
            "_view_module_version": "1.2.0",
            "_view_name": "StyleView",
            "description_width": ""
          }
        }
      }
    }
  },
  "nbformat": 4,
  "nbformat_minor": 5
}