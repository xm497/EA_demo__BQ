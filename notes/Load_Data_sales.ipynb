{
  "cells": [
    {
      "cell_type": "code",
      "id": "nwgRhzyeAkPZOE5dBAJ2au69",
      "metadata": {
        "tags": [],
        "id": "nwgRhzyeAkPZOE5dBAJ2au69",
        "colab": {
          "base_uri": "https://localhost:8080/"
        },
        "executionInfo": {
          "status": "ok",
          "timestamp": 1759344639866,
          "user_tz": -120,
          "elapsed": 200,
          "user": {
            "displayName": "",
            "userId": ""
          }
        },
        "outputId": "5ed575af-e76d-4911-9a20-debd8935e3ad"
      },
      "source": [
        "# Import required libraries\n",
        "import google.cloud.bigquery as bq\n",
        "from google.cloud import storage\n",
        "import pandas as pd\n",
        "import json\n",
        "\n",
        "# Initialize BigQuery client\n",
        "client = bq.Client()\n",
        "storage_client = storage.Client()\n",
        "\n",
        "# Configuration\n",
        "PROJECT_ID = client.project\n",
        "DATASET_ID = 'EA_DEMO_RAW'\n",
        "BUCKET_NAME = f'ea-demo-1raw'\n",
        "\n",
        "print(f\"BigQuery client initialized\")\n",
        "print(f\"Project ID: {PROJECT_ID}\")\n",
        "print(f\"Dataset: {DATASET_ID}\")\n",
        "print(f\"Bucket: {BUCKET_NAME}\")"
      ],
      "execution_count": null,
      "outputs": [
        {
          "output_type": "stream",
          "name": "stdout",
          "text": [
            "BigQuery client initialized\n",
            "Project ID: xm497-2025-09-16-sqvyh-1\n",
            "Dataset: EA_DEMO\n",
            "Bucket: ea-demo-1raw\n"
          ]
        }
      ]
    },
    {
      "cell_type": "code",
      "source": [
        "# Load customers data from JSON\n",
        "def load_sales_json():\n",
        "    \"\"\"Load customers data from JSON into T_SALES_RAW table\"\"\"\n",
        "\n",
        "    table_id = f\"{PROJECT_ID}.{DATASET_ID}.T_SALES_RAW\"\n",
        "\n",
        "    # Configure the load job\n",
        "    job_config = bq.LoadJobConfig(\n",
        "        source_format=bq.SourceFormat.NEWLINE_DELIMITED_JSON,\n",
        "        autodetect=False,  # Don't auto-detect schema, use existing table schema\n",
        "        write_disposition=bq.WriteDisposition.WRITE_TRUNCATE,  # Replace existing data\n",
        "        max_bad_records=0  # Fail if any bad records\n",
        "    )\n",
        "\n",
        "    # GCS URI for customers JSON file\n",
        "    uri = f\"gs://{BUCKET_NAME}/sales.json\"\n",
        "\n",
        "    print(f\"Loading customers data from: {uri}\")\n",
        "    print(f\"Target table: {table_id}\")\n",
        "\n",
        "    # Start the load job\n",
        "    load_job = client.load_table_from_uri(\n",
        "        uri, table_id, job_config=job_config\n",
        "    )\n",
        "\n",
        "    # Wait for job to complete\n",
        "    load_job.result()\n",
        "\n",
        "    # Get the updated table info\n",
        "    table = client.get_table(table_id)\n",
        "    print(f\"Loaded {table.num_rows:,} rows into T_SALES_RAW\")\n",
        "\n",
        "    return load_job"
      ],
      "metadata": {
        "id": "1-3DpFUkF_sc"
      },
      "id": "1-3DpFUkF_sc",
      "execution_count": null,
      "outputs": []
    },
    {
      "cell_type": "code",
      "source": [
        "sales_job=load_sales_json()"
      ],
      "metadata": {
        "colab": {
          "base_uri": "https://localhost:8080/"
        },
        "id": "NSVZvWnZGY26",
        "executionInfo": {
          "status": "ok",
          "timestamp": 1759344466338,
          "user_tz": -120,
          "elapsed": 3262,
          "user": {
            "displayName": "",
            "userId": ""
          }
        },
        "outputId": "bd381369-4ae2-4074-fbc0-cd07d2d27c17"
      },
      "id": "NSVZvWnZGY26",
      "execution_count": null,
      "outputs": [
        {
          "output_type": "stream",
          "name": "stdout",
          "text": [
            "Loading customers data from: gs://ea-demo-1raw/sales.json\n",
            "Target table: xm497-2025-09-16-sqvyh-1.EA_DEMO.T_SALES_RAW\n",
            "Loaded 2,000 rows into T_SALES_RAW\n"
          ]
        }
      ]
    },
    {
      "cell_type": "code",
      "source": [
        "%%bigquery sale_count\n",
        "select count(*) as cnt from `xm497-2025-09-16-sqvyh-1`.EA_DEMO_RAW.T_SALES_RAW"
      ],
      "metadata": {
        "colab": {
          "base_uri": "https://localhost:8080/",
          "height": 109,
          "referenced_widgets": [
            "8359856a89824350bdb62c3300932af2",
            "9d939b4e92234e3db10bbea7f0519d45",
            "02dee3560d944a62b6a3a989b8e496f0",
            "8a703bb76cbf445d8d700000849b80cc",
            "30e6bf51d93441ab8d3609930b013fba",
            "25e0db337b90418a895f01306a448886",
            "20e5cebeff804ff88312a367a600cbf4",
            "d737ffbaebc44ef3874d6d1b29a5be60",
            "e59750e357a54443ab5b058f9fd5cace",
            "7229a391751a4f8b9cec7a597c2ff13b",
            "191530f3e8cb48d493355e17521ac03a",
            "e63ca44d3ad64aa4b9afe134da61a293",
            "98eb35152fe642e0a686a23a587f239a",
            "c34a8d21838b45e79e112e335f1756ac",
            "1f48aeb155c74dbab000842242f2deb6",
            "970c8e5c5242422499e03615ea6ea333",
            "be7f44bb9084473daf6f34bd100409a8",
            "78b5d86f2ac64a7c80eddd4d642b3173",
            "56a1f0009db94dc4b1e4d3305d7a94bc",
            "502e16cabcd74888aac218aa1915cc51",
            "6908e9a434d644f089b90a3337fee378",
            "bb7e3fbf774c48ff8482e3508317930a"
          ]
        },
        "id": "IHd8rA5UGkPs",
        "executionInfo": {
          "status": "ok",
          "timestamp": 1759344497912,
          "user_tz": -120,
          "elapsed": 1641,
          "user": {
            "displayName": "",
            "userId": ""
          }
        },
        "outputId": "bc7295af-9374-4649-bf73-39cad9177393"
      },
      "id": "IHd8rA5UGkPs",
      "execution_count": null,
      "outputs": [
        {
          "output_type": "display_data",
          "data": {
            "text/plain": [
              "Query is running:   0%|          |"
            ],
            "application/vnd.jupyter.widget-view+json": {
              "version_major": 2,
              "version_minor": 0,
              "model_id": "8359856a89824350bdb62c3300932af2"
            }
          },
          "metadata": {}
        },
        {
          "output_type": "display_data",
          "data": {
            "text/plain": [
              "Downloading:   0%|          |"
            ],
            "application/vnd.jupyter.widget-view+json": {
              "version_major": 2,
              "version_minor": 0,
              "model_id": "e63ca44d3ad64aa4b9afe134da61a293"
            }
          },
          "metadata": {}
        }
      ]
    },
    {
      "cell_type": "code",
      "source": [
        "if  sale_count['cnt'][0] == 2000:\n",
        "    print(\"The customer Json data load is done as expected\")\n",
        "else :\n",
        "    print(\"The customer Json data load is not done as expected\")"
      ],
      "metadata": {
        "colab": {
          "base_uri": "https://localhost:8080/"
        },
        "id": "aO9cPIvmGrDS",
        "executionInfo": {
          "status": "ok",
          "timestamp": 1759344646481,
          "user_tz": -120,
          "elapsed": 151,
          "user": {
            "displayName": "",
            "userId": ""
          }
        },
        "outputId": "e5ea8157-6320-4137-8e62-6140a2da9ee2"
      },
      "id": "aO9cPIvmGrDS",
      "execution_count": null,
      "outputs": [
        {
          "output_type": "stream",
          "name": "stdout",
          "text": [
            "The customer Json data load is done as expected\n"
          ]
        }
      ]
    }
  ],
  "metadata": {
    "kernelspec": {
      "display_name": "Python 3",
      "language": "python",
      "name": "python3"
    },
    "language_info": {
      "codemirror_mode": {
        "name": "ipython",
        "version": 3
      },
      "file_extension": ".py",
      "mimetype": "text/x-python",
      "name": "python",
      "nbconvert_exporter": "python",
      "pygments_lexer": "ipython3",
      "version": "3.10.10"
    },
    "colab": {
      "provenance": [],
      "name": "Load_Data_sales"
    },
    "widgets": {
      "application/vnd.jupyter.widget-state+json": {
        "8359856a89824350bdb62c3300932af2": {
          "model_module": "@jupyter-widgets/controls",
          "model_name": "HBoxModel",
          "model_module_version": "1.5.0",
          "state": {
            "_dom_classes": [],
            "_model_module": "@jupyter-widgets/controls",
            "_model_module_version": "1.5.0",
            "_model_name": "HBoxModel",
            "_view_count": null,
            "_view_module": "@jupyter-widgets/controls",
            "_view_module_version": "1.5.0",
            "_view_name": "HBoxView",
            "box_style": "",
            "children": [
              "IPY_MODEL_9d939b4e92234e3db10bbea7f0519d45",
              "IPY_MODEL_02dee3560d944a62b6a3a989b8e496f0",
              "IPY_MODEL_8a703bb76cbf445d8d700000849b80cc"
            ],
            "layout": "IPY_MODEL_30e6bf51d93441ab8d3609930b013fba"
          }
        },
        "9d939b4e92234e3db10bbea7f0519d45": {
          "model_module": "@jupyter-widgets/controls",
          "model_name": "HTMLModel",
          "model_module_version": "1.5.0",
          "state": {
            "_dom_classes": [],
            "_model_module": "@jupyter-widgets/controls",
            "_model_module_version": "1.5.0",
            "_model_name": "HTMLModel",
            "_view_count": null,
            "_view_module": "@jupyter-widgets/controls",
            "_view_module_version": "1.5.0",
            "_view_name": "HTMLView",
            "description": "",
            "description_tooltip": null,
            "layout": "IPY_MODEL_25e0db337b90418a895f01306a448886",
            "placeholder": "​",
            "style": "IPY_MODEL_20e5cebeff804ff88312a367a600cbf4",
            "value": "Job ID e5a9839c-7ab5-4dad-ac7e-523159dde578 successfully executed: 100%"
          }
        },
        "02dee3560d944a62b6a3a989b8e496f0": {
          "model_module": "@jupyter-widgets/controls",
          "model_name": "FloatProgressModel",
          "model_module_version": "1.5.0",
          "state": {
            "_dom_classes": [],
            "_model_module": "@jupyter-widgets/controls",
            "_model_module_version": "1.5.0",
            "_model_name": "FloatProgressModel",
            "_view_count": null,
            "_view_module": "@jupyter-widgets/controls",
            "_view_module_version": "1.5.0",
            "_view_name": "ProgressView",
            "bar_style": "success",
            "description": "",
            "description_tooltip": null,
            "layout": "IPY_MODEL_d737ffbaebc44ef3874d6d1b29a5be60",
            "max": 1,
            "min": 0,
            "orientation": "horizontal",
            "style": "IPY_MODEL_e59750e357a54443ab5b058f9fd5cace",
            "value": 1
          }
        },
        "8a703bb76cbf445d8d700000849b80cc": {
          "model_module": "@jupyter-widgets/controls",
          "model_name": "HTMLModel",
          "model_module_version": "1.5.0",
          "state": {
            "_dom_classes": [],
            "_model_module": "@jupyter-widgets/controls",
            "_model_module_version": "1.5.0",
            "_model_name": "HTMLModel",
            "_view_count": null,
            "_view_module": "@jupyter-widgets/controls",
            "_view_module_version": "1.5.0",
            "_view_name": "HTMLView",
            "description": "",
            "description_tooltip": null,
            "layout": "IPY_MODEL_7229a391751a4f8b9cec7a597c2ff13b",
            "placeholder": "​",
            "style": "IPY_MODEL_191530f3e8cb48d493355e17521ac03a",
            "value": ""
          }
        },
        "30e6bf51d93441ab8d3609930b013fba": {
          "model_module": "@jupyter-widgets/base",
          "model_name": "LayoutModel",
          "model_module_version": "1.2.0",
          "state": {
            "_model_module": "@jupyter-widgets/base",
            "_model_module_version": "1.2.0",
            "_model_name": "LayoutModel",
            "_view_count": null,
            "_view_module": "@jupyter-widgets/base",
            "_view_module_version": "1.2.0",
            "_view_name": "LayoutView",
            "align_content": null,
            "align_items": null,
            "align_self": null,
            "border": null,
            "bottom": null,
            "display": null,
            "flex": null,
            "flex_flow": null,
            "grid_area": null,
            "grid_auto_columns": null,
            "grid_auto_flow": null,
            "grid_auto_rows": null,
            "grid_column": null,
            "grid_gap": null,
            "grid_row": null,
            "grid_template_areas": null,
            "grid_template_columns": null,
            "grid_template_rows": null,
            "height": null,
            "justify_content": null,
            "justify_items": null,
            "left": null,
            "margin": null,
            "max_height": null,
            "max_width": null,
            "min_height": null,
            "min_width": null,
            "object_fit": null,
            "object_position": null,
            "order": null,
            "overflow": null,
            "overflow_x": null,
            "overflow_y": null,
            "padding": null,
            "right": null,
            "top": null,
            "visibility": null,
            "width": null
          }
        },
        "25e0db337b90418a895f01306a448886": {
          "model_module": "@jupyter-widgets/base",
          "model_name": "LayoutModel",
          "model_module_version": "1.2.0",
          "state": {
            "_model_module": "@jupyter-widgets/base",
            "_model_module_version": "1.2.0",
            "_model_name": "LayoutModel",
            "_view_count": null,
            "_view_module": "@jupyter-widgets/base",
            "_view_module_version": "1.2.0",
            "_view_name": "LayoutView",
            "align_content": null,
            "align_items": null,
            "align_self": null,
            "border": null,
            "bottom": null,
            "display": null,
            "flex": null,
            "flex_flow": null,
            "grid_area": null,
            "grid_auto_columns": null,
            "grid_auto_flow": null,
            "grid_auto_rows": null,
            "grid_column": null,
            "grid_gap": null,
            "grid_row": null,
            "grid_template_areas": null,
            "grid_template_columns": null,
            "grid_template_rows": null,
            "height": null,
            "justify_content": null,
            "justify_items": null,
            "left": null,
            "margin": null,
            "max_height": null,
            "max_width": null,
            "min_height": null,
            "min_width": null,
            "object_fit": null,
            "object_position": null,
            "order": null,
            "overflow": null,
            "overflow_x": null,
            "overflow_y": null,
            "padding": null,
            "right": null,
            "top": null,
            "visibility": null,
            "width": null
          }
        },
        "20e5cebeff804ff88312a367a600cbf4": {
          "model_module": "@jupyter-widgets/controls",
          "model_name": "DescriptionStyleModel",
          "model_module_version": "1.5.0",
          "state": {
            "_model_module": "@jupyter-widgets/controls",
            "_model_module_version": "1.5.0",
            "_model_name": "DescriptionStyleModel",
            "_view_count": null,
            "_view_module": "@jupyter-widgets/base",
            "_view_module_version": "1.2.0",
            "_view_name": "StyleView",
            "description_width": ""
          }
        },
        "d737ffbaebc44ef3874d6d1b29a5be60": {
          "model_module": "@jupyter-widgets/base",
          "model_name": "LayoutModel",
          "model_module_version": "1.2.0",
          "state": {
            "_model_module": "@jupyter-widgets/base",
            "_model_module_version": "1.2.0",
            "_model_name": "LayoutModel",
            "_view_count": null,
            "_view_module": "@jupyter-widgets/base",
            "_view_module_version": "1.2.0",
            "_view_name": "LayoutView",
            "align_content": null,
            "align_items": null,
            "align_self": null,
            "border": null,
            "bottom": null,
            "display": null,
            "flex": null,
            "flex_flow": null,
            "grid_area": null,
            "grid_auto_columns": null,
            "grid_auto_flow": null,
            "grid_auto_rows": null,
            "grid_column": null,
            "grid_gap": null,
            "grid_row": null,
            "grid_template_areas": null,
            "grid_template_columns": null,
            "grid_template_rows": null,
            "height": null,
            "justify_content": null,
            "justify_items": null,
            "left": null,
            "margin": null,
            "max_height": null,
            "max_width": null,
            "min_height": null,
            "min_width": null,
            "object_fit": null,
            "object_position": null,
            "order": null,
            "overflow": null,
            "overflow_x": null,
            "overflow_y": null,
            "padding": null,
            "right": null,
            "top": null,
            "visibility": null,
            "width": null
          }
        },
        "e59750e357a54443ab5b058f9fd5cace": {
          "model_module": "@jupyter-widgets/controls",
          "model_name": "ProgressStyleModel",
          "model_module_version": "1.5.0",
          "state": {
            "_model_module": "@jupyter-widgets/controls",
            "_model_module_version": "1.5.0",
            "_model_name": "ProgressStyleModel",
            "_view_count": null,
            "_view_module": "@jupyter-widgets/base",
            "_view_module_version": "1.2.0",
            "_view_name": "StyleView",
            "bar_color": null,
            "description_width": ""
          }
        },
        "7229a391751a4f8b9cec7a597c2ff13b": {
          "model_module": "@jupyter-widgets/base",
          "model_name": "LayoutModel",
          "model_module_version": "1.2.0",
          "state": {
            "_model_module": "@jupyter-widgets/base",
            "_model_module_version": "1.2.0",
            "_model_name": "LayoutModel",
            "_view_count": null,
            "_view_module": "@jupyter-widgets/base",
            "_view_module_version": "1.2.0",
            "_view_name": "LayoutView",
            "align_content": null,
            "align_items": null,
            "align_self": null,
            "border": null,
            "bottom": null,
            "display": null,
            "flex": null,
            "flex_flow": null,
            "grid_area": null,
            "grid_auto_columns": null,
            "grid_auto_flow": null,
            "grid_auto_rows": null,
            "grid_column": null,
            "grid_gap": null,
            "grid_row": null,
            "grid_template_areas": null,
            "grid_template_columns": null,
            "grid_template_rows": null,
            "height": null,
            "justify_content": null,
            "justify_items": null,
            "left": null,
            "margin": null,
            "max_height": null,
            "max_width": null,
            "min_height": null,
            "min_width": null,
            "object_fit": null,
            "object_position": null,
            "order": null,
            "overflow": null,
            "overflow_x": null,
            "overflow_y": null,
            "padding": null,
            "right": null,
            "top": null,
            "visibility": null,
            "width": null
          }
        },
        "191530f3e8cb48d493355e17521ac03a": {
          "model_module": "@jupyter-widgets/controls",
          "model_name": "DescriptionStyleModel",
          "model_module_version": "1.5.0",
          "state": {
            "_model_module": "@jupyter-widgets/controls",
            "_model_module_version": "1.5.0",
            "_model_name": "DescriptionStyleModel",
            "_view_count": null,
            "_view_module": "@jupyter-widgets/base",
            "_view_module_version": "1.2.0",
            "_view_name": "StyleView",
            "description_width": ""
          }
        },
        "e63ca44d3ad64aa4b9afe134da61a293": {
          "model_module": "@jupyter-widgets/controls",
          "model_name": "HBoxModel",
          "model_module_version": "1.5.0",
          "state": {
            "_dom_classes": [],
            "_model_module": "@jupyter-widgets/controls",
            "_model_module_version": "1.5.0",
            "_model_name": "HBoxModel",
            "_view_count": null,
            "_view_module": "@jupyter-widgets/controls",
            "_view_module_version": "1.5.0",
            "_view_name": "HBoxView",
            "box_style": "",
            "children": [
              "IPY_MODEL_98eb35152fe642e0a686a23a587f239a",
              "IPY_MODEL_c34a8d21838b45e79e112e335f1756ac",
              "IPY_MODEL_1f48aeb155c74dbab000842242f2deb6"
            ],
            "layout": "IPY_MODEL_970c8e5c5242422499e03615ea6ea333"
          }
        },
        "98eb35152fe642e0a686a23a587f239a": {
          "model_module": "@jupyter-widgets/controls",
          "model_name": "HTMLModel",
          "model_module_version": "1.5.0",
          "state": {
            "_dom_classes": [],
            "_model_module": "@jupyter-widgets/controls",
            "_model_module_version": "1.5.0",
            "_model_name": "HTMLModel",
            "_view_count": null,
            "_view_module": "@jupyter-widgets/controls",
            "_view_module_version": "1.5.0",
            "_view_name": "HTMLView",
            "description": "",
            "description_tooltip": null,
            "layout": "IPY_MODEL_be7f44bb9084473daf6f34bd100409a8",
            "placeholder": "​",
            "style": "IPY_MODEL_78b5d86f2ac64a7c80eddd4d642b3173",
            "value": "Downloading: 100%"
          }
        },
        "c34a8d21838b45e79e112e335f1756ac": {
          "model_module": "@jupyter-widgets/controls",
          "model_name": "FloatProgressModel",
          "model_module_version": "1.5.0",
          "state": {
            "_dom_classes": [],
            "_model_module": "@jupyter-widgets/controls",
            "_model_module_version": "1.5.0",
            "_model_name": "FloatProgressModel",
            "_view_count": null,
            "_view_module": "@jupyter-widgets/controls",
            "_view_module_version": "1.5.0",
            "_view_name": "ProgressView",
            "bar_style": "success",
            "description": "",
            "description_tooltip": null,
            "layout": "IPY_MODEL_56a1f0009db94dc4b1e4d3305d7a94bc",
            "max": 1,
            "min": 0,
            "orientation": "horizontal",
            "style": "IPY_MODEL_502e16cabcd74888aac218aa1915cc51",
            "value": 1
          }
        },
        "1f48aeb155c74dbab000842242f2deb6": {
          "model_module": "@jupyter-widgets/controls",
          "model_name": "HTMLModel",
          "model_module_version": "1.5.0",
          "state": {
            "_dom_classes": [],
            "_model_module": "@jupyter-widgets/controls",
            "_model_module_version": "1.5.0",
            "_model_name": "HTMLModel",
            "_view_count": null,
            "_view_module": "@jupyter-widgets/controls",
            "_view_module_version": "1.5.0",
            "_view_name": "HTMLView",
            "description": "",
            "description_tooltip": null,
            "layout": "IPY_MODEL_6908e9a434d644f089b90a3337fee378",
            "placeholder": "​",
            "style": "IPY_MODEL_bb7e3fbf774c48ff8482e3508317930a",
            "value": ""
          }
        },
        "970c8e5c5242422499e03615ea6ea333": {
          "model_module": "@jupyter-widgets/base",
          "model_name": "LayoutModel",
          "model_module_version": "1.2.0",
          "state": {
            "_model_module": "@jupyter-widgets/base",
            "_model_module_version": "1.2.0",
            "_model_name": "LayoutModel",
            "_view_count": null,
            "_view_module": "@jupyter-widgets/base",
            "_view_module_version": "1.2.0",
            "_view_name": "LayoutView",
            "align_content": null,
            "align_items": null,
            "align_self": null,
            "border": null,
            "bottom": null,
            "display": null,
            "flex": null,
            "flex_flow": null,
            "grid_area": null,
            "grid_auto_columns": null,
            "grid_auto_flow": null,
            "grid_auto_rows": null,
            "grid_column": null,
            "grid_gap": null,
            "grid_row": null,
            "grid_template_areas": null,
            "grid_template_columns": null,
            "grid_template_rows": null,
            "height": null,
            "justify_content": null,
            "justify_items": null,
            "left": null,
            "margin": null,
            "max_height": null,
            "max_width": null,
            "min_height": null,
            "min_width": null,
            "object_fit": null,
            "object_position": null,
            "order": null,
            "overflow": null,
            "overflow_x": null,
            "overflow_y": null,
            "padding": null,
            "right": null,
            "top": null,
            "visibility": null,
            "width": null
          }
        },
        "be7f44bb9084473daf6f34bd100409a8": {
          "model_module": "@jupyter-widgets/base",
          "model_name": "LayoutModel",
          "model_module_version": "1.2.0",
          "state": {
            "_model_module": "@jupyter-widgets/base",
            "_model_module_version": "1.2.0",
            "_model_name": "LayoutModel",
            "_view_count": null,
            "_view_module": "@jupyter-widgets/base",
            "_view_module_version": "1.2.0",
            "_view_name": "LayoutView",
            "align_content": null,
            "align_items": null,
            "align_self": null,
            "border": null,
            "bottom": null,
            "display": null,
            "flex": null,
            "flex_flow": null,
            "grid_area": null,
            "grid_auto_columns": null,
            "grid_auto_flow": null,
            "grid_auto_rows": null,
            "grid_column": null,
            "grid_gap": null,
            "grid_row": null,
            "grid_template_areas": null,
            "grid_template_columns": null,
            "grid_template_rows": null,
            "height": null,
            "justify_content": null,
            "justify_items": null,
            "left": null,
            "margin": null,
            "max_height": null,
            "max_width": null,
            "min_height": null,
            "min_width": null,
            "object_fit": null,
            "object_position": null,
            "order": null,
            "overflow": null,
            "overflow_x": null,
            "overflow_y": null,
            "padding": null,
            "right": null,
            "top": null,
            "visibility": null,
            "width": null
          }
        },
        "78b5d86f2ac64a7c80eddd4d642b3173": {
          "model_module": "@jupyter-widgets/controls",
          "model_name": "DescriptionStyleModel",
          "model_module_version": "1.5.0",
          "state": {
            "_model_module": "@jupyter-widgets/controls",
            "_model_module_version": "1.5.0",
            "_model_name": "DescriptionStyleModel",
            "_view_count": null,
            "_view_module": "@jupyter-widgets/base",
            "_view_module_version": "1.2.0",
            "_view_name": "StyleView",
            "description_width": ""
          }
        },
        "56a1f0009db94dc4b1e4d3305d7a94bc": {
          "model_module": "@jupyter-widgets/base",
          "model_name": "LayoutModel",
          "model_module_version": "1.2.0",
          "state": {
            "_model_module": "@jupyter-widgets/base",
            "_model_module_version": "1.2.0",
            "_model_name": "LayoutModel",
            "_view_count": null,
            "_view_module": "@jupyter-widgets/base",
            "_view_module_version": "1.2.0",
            "_view_name": "LayoutView",
            "align_content": null,
            "align_items": null,
            "align_self": null,
            "border": null,
            "bottom": null,
            "display": null,
            "flex": null,
            "flex_flow": null,
            "grid_area": null,
            "grid_auto_columns": null,
            "grid_auto_flow": null,
            "grid_auto_rows": null,
            "grid_column": null,
            "grid_gap": null,
            "grid_row": null,
            "grid_template_areas": null,
            "grid_template_columns": null,
            "grid_template_rows": null,
            "height": null,
            "justify_content": null,
            "justify_items": null,
            "left": null,
            "margin": null,
            "max_height": null,
            "max_width": null,
            "min_height": null,
            "min_width": null,
            "object_fit": null,
            "object_position": null,
            "order": null,
            "overflow": null,
            "overflow_x": null,
            "overflow_y": null,
            "padding": null,
            "right": null,
            "top": null,
            "visibility": null,
            "width": null
          }
        },
        "502e16cabcd74888aac218aa1915cc51": {
          "model_module": "@jupyter-widgets/controls",
          "model_name": "ProgressStyleModel",
          "model_module_version": "1.5.0",
          "state": {
            "_model_module": "@jupyter-widgets/controls",
            "_model_module_version": "1.5.0",
            "_model_name": "ProgressStyleModel",
            "_view_count": null,
            "_view_module": "@jupyter-widgets/base",
            "_view_module_version": "1.2.0",
            "_view_name": "StyleView",
            "bar_color": null,
            "description_width": ""
          }
        },
        "6908e9a434d644f089b90a3337fee378": {
          "model_module": "@jupyter-widgets/base",
          "model_name": "LayoutModel",
          "model_module_version": "1.2.0",
          "state": {
            "_model_module": "@jupyter-widgets/base",
            "_model_module_version": "1.2.0",
            "_model_name": "LayoutModel",
            "_view_count": null,
            "_view_module": "@jupyter-widgets/base",
            "_view_module_version": "1.2.0",
            "_view_name": "LayoutView",
            "align_content": null,
            "align_items": null,
            "align_self": null,
            "border": null,
            "bottom": null,
            "display": null,
            "flex": null,
            "flex_flow": null,
            "grid_area": null,
            "grid_auto_columns": null,
            "grid_auto_flow": null,
            "grid_auto_rows": null,
            "grid_column": null,
            "grid_gap": null,
            "grid_row": null,
            "grid_template_areas": null,
            "grid_template_columns": null,
            "grid_template_rows": null,
            "height": null,
            "justify_content": null,
            "justify_items": null,
            "left": null,
            "margin": null,
            "max_height": null,
            "max_width": null,
            "min_height": null,
            "min_width": null,
            "object_fit": null,
            "object_position": null,
            "order": null,
            "overflow": null,
            "overflow_x": null,
            "overflow_y": null,
            "padding": null,
            "right": null,
            "top": null,
            "visibility": null,
            "width": null
          }
        },
        "bb7e3fbf774c48ff8482e3508317930a": {
          "model_module": "@jupyter-widgets/controls",
          "model_name": "DescriptionStyleModel",
          "model_module_version": "1.5.0",
          "state": {
            "_model_module": "@jupyter-widgets/controls",
            "_model_module_version": "1.5.0",
            "_model_name": "DescriptionStyleModel",
            "_view_count": null,
            "_view_module": "@jupyter-widgets/base",
            "_view_module_version": "1.2.0",
            "_view_name": "StyleView",
            "description_width": ""
          }
        }
      }
    }
  },
  "nbformat": 4,
  "nbformat_minor": 5
}